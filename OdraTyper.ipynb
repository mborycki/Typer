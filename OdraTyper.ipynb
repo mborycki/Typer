{
 "cells": [
  {
   "cell_type": "code",
   "execution_count": null,
   "id": "367abd5c",
   "metadata": {},
   "outputs": [],
   "source": [
    "token = \"d2352f1c004379ea8bf1bbae5a300c33\""
   ]
  },
  {
   "cell_type": "code",
   "execution_count": null,
   "id": "fb70dc2a",
   "metadata": {},
   "outputs": [],
   "source": [
    "import http.client\n",
    "\n",
    "conn = http.client.HTTPSConnection(\"v3.football.api-sports.io\")\n",
    "\n",
    "headers = {\n",
    "    'x-rapidapi-host': \"v3.football.api-sports.io\",\n",
    "    'x-rapidapi-key': \"d2352f1c004379ea8bf1bbae5a300c33\"\n",
    "    }\n",
    "\n",
    "conn.request(\"GET\", \"https://v3.football.api-sports.io/status\", headers=headers)\n",
    "\n",
    "res = conn.getresponse()\n",
    "data = res.read()\n",
    "\n",
    "print(data.decode(\"utf-8\"))"
   ]
  },
  {
   "cell_type": "code",
   "execution_count": null,
   "id": "02afeb3f",
   "metadata": {},
   "outputs": [],
   "source": [
    "url = \"https://v3.football.api-sports.io/leagues\"\n",
    "\n",
    "payload={}\n",
    "headers = {\n",
    "  'x-rapidapi-key': 'd2352f1c004379ea8bf1bbae5a300c33',\n",
    "  'x-rapidapi-host': 'v3.football.api-sports.io'\n",
    "}\n",
    "\n",
    "response = requests.request(\"GET\", url, headers=headers, data=payload)\n",
    "\n",
    "print(response.text)"
   ]
  },
  {
   "cell_type": "code",
   "execution_count": null,
   "id": "477e51b0",
   "metadata": {},
   "outputs": [],
   "source": [
    "import http.client\n",
    "\n",
    "conn = http.client.HTTPSConnection(\"v3.football.api-sports.io\")\n",
    "\n",
    "headers = {\n",
    "    'x-rapidapi-host': \"v3.football.api-sports.io\",\n",
    "    'x-rapidapi-key': \"d2352f1c004379ea8bf1bbae5a300c33\"\n",
    "    }\n",
    "\n",
    "conn.request(\"GET\", \"/teams?id=780\", headers=headers)\n",
    "\n",
    "res = conn.getresponse()\n",
    "data = res.read()\n"
   ]
  },
  {
   "cell_type": "code",
   "execution_count": null,
   "id": "c2a160ce",
   "metadata": {},
   "outputs": [],
   "source": [
    "import http.client\n",
    "\n",
    "conn = http.client.HTTPSConnection(\"v3.football.api-sports.io\")\n",
    "\n",
    "headers = {\n",
    "    'x-rapidapi-host': \"v3.football.api-sports.io\",\n",
    "    'x-rapidapi-key': \"d2352f1c004379ea8bf1bbae5a300c33\"\n",
    "    }\n",
    "\n",
    "conn.request(\"GET\", \"/leagues/seasons\", headers=headers)\n",
    "\n",
    "res = conn.getresponse()\n",
    "data = res.read()\n",
    "\n",
    "print(data.decode(\"utf-8\"))\n"
   ]
  },
  {
   "cell_type": "markdown",
   "id": "79ed81b7",
   "metadata": {},
   "source": [
    "## Head to Head"
   ]
  },
  {
   "cell_type": "code",
   "execution_count": null,
   "id": "68d5cb1d",
   "metadata": {},
   "outputs": [],
   "source": [
    "import json"
   ]
  },
  {
   "cell_type": "code",
   "execution_count": null,
   "id": "b9b793e7",
   "metadata": {},
   "outputs": [],
   "source": [
    "type(data)"
   ]
  },
  {
   "cell_type": "code",
   "execution_count": null,
   "id": "ae896ff9",
   "metadata": {},
   "outputs": [],
   "source": [
    "h2h_param = '33-34'\n",
    "date_param = '2018-10-06'"
   ]
  },
  {
   "cell_type": "code",
   "execution_count": null,
   "id": "154184a3",
   "metadata": {},
   "outputs": [],
   "source": [
    "import http.client\n",
    "\n",
    "conn = http.client.HTTPSConnection(\"v3.football.api-sports.io\")\n",
    "\n",
    "headers = {\n",
    "    'x-rapidapi-host': \"https://v3.football.api-sports.io\",\n",
    "    'x-rapidapi-key': token\n",
    "    }\n",
    "\n",
    "conn.request(\"GET\", f\"/fixtures/headtohead?h2h={h2h_param}&date={date_param}\", headers=headers) #example\n",
    "#conn.request(\"GET\", \"https://v3.football.api-sports.io/fixtures/headtohead\", headers=headers)\n",
    "\n",
    "res = conn.getresponse()\n",
    "data = res.read()"
   ]
  },
  {
   "cell_type": "code",
   "execution_count": null,
   "id": "2043cc48",
   "metadata": {},
   "outputs": [],
   "source": [
    "res = json.loads(data.decode('utf8').replace(\"'\", '\"'))\n",
    "res = json.dumps(res, indent=4, sort_keys=True)"
   ]
  },
  {
   "cell_type": "code",
   "execution_count": null,
   "id": "ccbc8df8",
   "metadata": {},
   "outputs": [],
   "source": [
    "print(res)"
   ]
  },
  {
   "cell_type": "markdown",
   "id": "e9319433",
   "metadata": {},
   "source": [
    "## Opening file - example"
   ]
  },
  {
   "cell_type": "code",
   "execution_count": null,
   "id": "16520f8e",
   "metadata": {},
   "outputs": [],
   "source": [
    "file1 = open(\"myfilee.txt\",\"w\")\n",
    "L = [\"This is Delhi \\n\",\"This is Paris \\n\",\"This is London \\n\"] \n",
    "file1.writelines(L)\n",
    "\n",
    "file1.close()\n",
    "\n",
    "###########################\n",
    "file1 = open(\"myfilee.txt\",\"r+\") \n",
    "  \n",
    "print(\"Output of Read function is \")\n",
    "print(file1.read())\n",
    "\n",
    "###########################\n",
    "# seek(n) takes the file handle to the nth\n",
    "# bite from the beginning.\n",
    "file1.seek(0) \n",
    "  \n",
    "print( \"Output of Readline function is \")\n",
    "print(file1.readline())\n",
    "\n",
    "###########################\n",
    "file1.seek(0)\n",
    "  \n",
    "# To show difference between read and readline\n",
    "print(\"Output of Read(9) function is \") \n",
    "print(file1.read(9))\n",
    "\n",
    "###########################\n",
    "file1.seek(0)\n",
    "  \n",
    "print(\"Output of Readline(9) function is \") \n",
    "print(file1.readline(9))\n",
    "\n",
    "###########################\n",
    "file1.seek(0)\n",
    "# readlines function\n",
    "print(\"Output of Readlines function is \") \n",
    "print(file1.readlines()) \n",
    "\n",
    "file1.close()"
   ]
  },
  {
   "cell_type": "markdown",
   "id": "7e0f154b",
   "metadata": {},
   "source": [
    "## Fixtures "
   ]
  },
  {
   "cell_type": "markdown",
   "id": "db6723b0",
   "metadata": {},
   "source": [
    "**Downloading + Saving the outputs**"
   ]
  },
  {
   "cell_type": "code",
   "execution_count": null,
   "id": "1ce23b61",
   "metadata": {},
   "outputs": [],
   "source": [
    "import json\n",
    "import pandas as pd"
   ]
  },
  {
   "cell_type": "code",
   "execution_count": null,
   "id": "a9890022",
   "metadata": {},
   "outputs": [],
   "source": [
    "league_id = 782\n",
    "season = 2021\n",
    "token = \"d2352f1c004379ea8bf1bbae5a300c33\""
   ]
  },
  {
   "cell_type": "code",
   "execution_count": null,
   "id": "2c2f7cc2",
   "metadata": {},
   "outputs": [],
   "source": [
    "import http.client\n",
    "\n",
    "conn = http.client.HTTPSConnection(\"v3.football.api-sports.io\")\n",
    "\n",
    "headers = {\n",
    "    'x-rapidapi-host': \"v3.football.api-sports.io\",\n",
    "    'x-rapidapi-key': token\n",
    "    }\n",
    "\n",
    "#conn.request(\"GET\", \"/fixtures?live=all\", headers=headers)\n",
    "conn.request(\"GET\", f\"/fixtures?league={league_id}&season={season}\", headers=headers)\n",
    "\n",
    "res = conn.getresponse()\n",
    "data = res.read()"
   ]
  },
  {
   "cell_type": "code",
   "execution_count": null,
   "id": "2d6a456a",
   "metadata": {},
   "outputs": [],
   "source": [
    "#result = json.loads(data.decode('utf8'))# #.replace(\"'\", '\"'))\n",
    "# result = json.dumps(json.loads(data.decode('utf8')), indent=4, sort_keys=True)\n",
    "result = json.loads(data.decode('utf8'))"
   ]
  },
  {
   "cell_type": "code",
   "execution_count": null,
   "id": "a20c35d5",
   "metadata": {},
   "outputs": [],
   "source": [
    "#result['response']"
   ]
  },
  {
   "cell_type": "code",
   "execution_count": null,
   "id": "9aca663f",
   "metadata": {},
   "outputs": [],
   "source": [
    "result['response']"
   ]
  },
  {
   "cell_type": "code",
   "execution_count": null,
   "id": "c5d47134",
   "metadata": {},
   "outputs": [],
   "source": [
    "for key in result['response'][0]:\n",
    "    print(key)"
   ]
  },
  {
   "cell_type": "code",
   "execution_count": null,
   "id": "944c00a3",
   "metadata": {},
   "outputs": [],
   "source": [
    "result['response'][0]['fixture']"
   ]
  },
  {
   "cell_type": "code",
   "execution_count": null,
   "id": "93c917c8",
   "metadata": {},
   "outputs": [],
   "source": [
    "result['response'][0]['league']"
   ]
  },
  {
   "cell_type": "code",
   "execution_count": null,
   "id": "fc00ecb8",
   "metadata": {},
   "outputs": [],
   "source": [
    "result['response'][0]['teams']"
   ]
  },
  {
   "cell_type": "code",
   "execution_count": null,
   "id": "9010c37c",
   "metadata": {},
   "outputs": [],
   "source": [
    "result['response'][0]['goals']"
   ]
  },
  {
   "cell_type": "code",
   "execution_count": null,
   "id": "20748e1d",
   "metadata": {},
   "outputs": [],
   "source": [
    "result['response'][0]['score']"
   ]
  },
  {
   "cell_type": "code",
   "execution_count": null,
   "id": "0f27f4fd",
   "metadata": {},
   "outputs": [],
   "source": []
  },
  {
   "cell_type": "code",
   "execution_count": null,
   "id": "848b60e6",
   "metadata": {},
   "outputs": [],
   "source": []
  },
  {
   "cell_type": "code",
   "execution_count": null,
   "id": "102d616e",
   "metadata": {},
   "outputs": [],
   "source": []
  },
  {
   "cell_type": "code",
   "execution_count": null,
   "id": "b236301a",
   "metadata": {},
   "outputs": [],
   "source": []
  },
  {
   "cell_type": "code",
   "execution_count": null,
   "id": "4dc33ea3",
   "metadata": {},
   "outputs": [],
   "source": []
  },
  {
   "cell_type": "code",
   "execution_count": null,
   "id": "0b894302",
   "metadata": {},
   "outputs": [],
   "source": [
    "with open('Odra_2021.txt', 'w', encoding=\"utf-8\") as file:\n",
    "    file.write(str(result))"
   ]
  },
  {
   "cell_type": "code",
   "execution_count": null,
   "id": "a372e0d9",
   "metadata": {},
   "outputs": [],
   "source": [
    "result"
   ]
  },
  {
   "cell_type": "code",
   "execution_count": null,
   "id": "c7019d9d",
   "metadata": {},
   "outputs": [],
   "source": [
    "type(json.loads(data.decode('utf8')))"
   ]
  },
  {
   "cell_type": "markdown",
   "id": "a52b59d0",
   "metadata": {},
   "source": [
    "**Opening and analyzing**"
   ]
  },
  {
   "cell_type": "code",
   "execution_count": null,
   "id": "5531a483",
   "metadata": {},
   "outputs": [],
   "source": [
    "file1 = open(\"Odra_2021.txt\",\"r+\") \n",
    "#print(file1.read())\n",
    "df = file1.read()\n",
    "file1.close()"
   ]
  },
  {
   "cell_type": "code",
   "execution_count": null,
   "id": "1888f84b",
   "metadata": {},
   "outputs": [],
   "source": [
    "print(dict(df))"
   ]
  },
  {
   "cell_type": "code",
   "execution_count": null,
   "id": "3f8cae72",
   "metadata": {},
   "outputs": [],
   "source": [
    "for key in res:\n",
    "    print(key)"
   ]
  },
  {
   "cell_type": "code",
   "execution_count": null,
   "id": "492216d1",
   "metadata": {},
   "outputs": [],
   "source": [
    "# for key, value in res.items():\n",
    "#     print(key, value)"
   ]
  },
  {
   "cell_type": "code",
   "execution_count": null,
   "id": "0ade1408",
   "metadata": {},
   "outputs": [],
   "source": [
    "print(len(res['response']))"
   ]
  },
  {
   "cell_type": "code",
   "execution_count": null,
   "id": "72c8701b",
   "metadata": {},
   "outputs": [],
   "source": [
    "print(res['response'][0])"
   ]
  },
  {
   "cell_type": "code",
   "execution_count": null,
   "id": "f14f8006",
   "metadata": {},
   "outputs": [],
   "source": [
    "for key in res['response'][0]:\n",
    "    print(key)"
   ]
  },
  {
   "cell_type": "code",
   "execution_count": null,
   "id": "5ec33756",
   "metadata": {},
   "outputs": [],
   "source": []
  },
  {
   "cell_type": "code",
   "execution_count": null,
   "id": "7601f53a",
   "metadata": {
    "scrolled": true
   },
   "outputs": [],
   "source": [
    "df = pd.DataFrame(res.items())\n",
    "df = df[df[0]=='response']"
   ]
  },
  {
   "cell_type": "code",
   "execution_count": null,
   "id": "5b11990d",
   "metadata": {},
   "outputs": [],
   "source": [
    "pd.DataFrame(data=list(df.iloc[:,1:].values))"
   ]
  },
  {
   "cell_type": "code",
   "execution_count": null,
   "id": "dd40c4a0",
   "metadata": {},
   "outputs": [],
   "source": [
    "print(zz[1])"
   ]
  },
  {
   "cell_type": "code",
   "execution_count": null,
   "id": "642d5ba1",
   "metadata": {},
   "outputs": [],
   "source": [
    "res2[2]"
   ]
  },
  {
   "cell_type": "code",
   "execution_count": null,
   "id": "a627f837",
   "metadata": {},
   "outputs": [],
   "source": [
    "for i in range(0, len(res)):\n",
    "    print(res[i])"
   ]
  }
 ],
 "metadata": {
  "kernelspec": {
   "display_name": "Python 3",
   "language": "python",
   "name": "python3"
  },
  "language_info": {
   "codemirror_mode": {
    "name": "ipython",
    "version": 3
   },
   "file_extension": ".py",
   "mimetype": "text/x-python",
   "name": "python",
   "nbconvert_exporter": "python",
   "pygments_lexer": "ipython3",
   "version": "3.8.8"
  }
 },
 "nbformat": 4,
 "nbformat_minor": 5
}
